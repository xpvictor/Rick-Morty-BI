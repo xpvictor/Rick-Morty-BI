{
 "cells": [
  {
   "cell_type": "code",
   "execution_count": 2,
   "metadata": {},
   "outputs": [],
   "source": [
    "import requests\n",
    "import json\n",
    "import pandas as pd \n",
    "from pyspark.sql.functions import col, explode_outer\n",
    "from pyspark.sql import SparkSession"
   ]
  },
  {
   "cell_type": "code",
   "execution_count": 3,
   "metadata": {},
   "outputs": [],
   "source": [
    "list_ids = [ids for ids in range(1,101)]\n",
    "url = f'https://rickandmortyapi.com/api/character/{list_ids}'\n",
    "lista_dados1 = requests.get(url).json()"
   ]
  },
  {
   "cell_type": "code",
   "execution_count": 4,
   "metadata": {},
   "outputs": [],
   "source": [
    "list_ids = [ids for ids in range(101,201)]\n",
    "url = f'https://rickandmortyapi.com/api/character/{list_ids}'\n",
    "lista_dados2 = requests.get(url).json()"
   ]
  },
  {
   "cell_type": "code",
   "execution_count": 5,
   "metadata": {},
   "outputs": [],
   "source": [
    "list_ids = [ids for ids in range(201,301)]\n",
    "url = f'https://rickandmortyapi.com/api/character/{list_ids}'\n",
    "lista_dados3 = requests.get(url).json()"
   ]
  },
  {
   "cell_type": "code",
   "execution_count": 6,
   "metadata": {},
   "outputs": [],
   "source": [
    "list_ids = [ids for ids in range(301,401)]\n",
    "url = f'https://rickandmortyapi.com/api/character/{list_ids}'\n",
    "lista_dados4 = requests.get(url).json()"
   ]
  },
  {
   "cell_type": "code",
   "execution_count": 7,
   "metadata": {},
   "outputs": [],
   "source": [
    "list_ids = [ids for ids in range(401,501)]\n",
    "url = f'https://rickandmortyapi.com/api/character/{list_ids}'\n",
    "lista_dados5 = requests.get(url).json()"
   ]
  },
  {
   "cell_type": "code",
   "execution_count": 8,
   "metadata": {},
   "outputs": [],
   "source": [
    "list_ids = [ids for ids in range(501,601)]\n",
    "url = f'https://rickandmortyapi.com/api/character/{list_ids}'\n",
    "lista_dados6 = requests.get(url).json()"
   ]
  },
  {
   "cell_type": "code",
   "execution_count": 9,
   "metadata": {},
   "outputs": [],
   "source": [
    "list_ids = [ids for ids in range(601,701)]\n",
    "url = f'https://rickandmortyapi.com/api/character/{list_ids}'\n",
    "lista_dados7 = requests.get(url).json()"
   ]
  },
  {
   "cell_type": "code",
   "execution_count": 10,
   "metadata": {},
   "outputs": [],
   "source": [
    "list_ids = [ids for ids in range(801,827)]\n",
    "url = f'https://rickandmortyapi.com/api/character/{list_ids}'\n",
    "lista_dados8 = requests.get(url).json()"
   ]
  },
  {
   "cell_type": "code",
   "execution_count": 33,
   "metadata": {},
   "outputs": [],
   "source": [
    "#Normalizando as informações JSON que estiverem em outras estruturas(objetos, etc.)\n",
    "normalized_data1 = pd.json_normalize(lista_dados1)\n",
    "normalized_data2 = pd.json_normalize(lista_dados2)\n",
    "normalized_data3 = pd.json_normalize(lista_dados3)\n",
    "normalized_data4 = pd.json_normalize(lista_dados4)\n",
    "normalized_data5 = pd.json_normalize(lista_dados5)\n",
    "normalized_data6 = pd.json_normalize(lista_dados6)\n",
    "normalized_data7 = pd.json_normalize(lista_dados7)\n",
    "normalized_data8 = pd.json_normalize(lista_dados8)\n",
    "\n",
    "#Criando um dataframe unificado \n",
    "df_character = pd.concat([\n",
    "    normalized_data1,\n",
    "    normalized_data1,\n",
    "    normalized_data3,\n",
    "    normalized_data4,\n",
    "    normalized_data5,\n",
    "    normalized_data6,\n",
    "    normalized_data7,\n",
    "    normalized_data8])\n",
    "\n"
   ]
  }
 ],
 "metadata": {
  "kernelspec": {
   "display_name": "Python 3",
   "language": "python",
   "name": "python3"
  },
  "language_info": {
   "codemirror_mode": {
    "name": "ipython",
    "version": 3
   },
   "file_extension": ".py",
   "mimetype": "text/x-python",
   "name": "python",
   "nbconvert_exporter": "python",
   "pygments_lexer": "ipython3",
   "version": "3.13.0"
  }
 },
 "nbformat": 4,
 "nbformat_minor": 2
}
